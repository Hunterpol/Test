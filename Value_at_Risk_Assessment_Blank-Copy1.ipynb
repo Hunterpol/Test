{
 "cells": [
  {
   "cell_type": "markdown",
   "id": "253fe726",
   "metadata": {},
   "source": [
    "# Value at Risk Assessment Model "
   ]
  },
  {
   "cell_type": "code",
   "execution_count": 1,
   "id": "dc6ac4ca",
   "metadata": {},
   "outputs": [],
   "source": [
    "#import Packages \n",
    "import numpy as np\n",
    "import pandas as pd\n",
    "import matplotlib.pyplot as plt\n",
    "import yfinance as yf"
   ]
  },
  {
   "cell_type": "markdown",
   "id": "b8b17f4b",
   "metadata": {},
   "source": [
    "# Distributinos - Set up Stock Parameters\n"
   ]
  },
  {
   "cell_type": "code",
   "execution_count": 12,
   "id": "7e57ce3d",
   "metadata": {},
   "outputs": [
    {
     "name": "stdout",
     "output_type": "stream",
     "text": [
      "MSFT\n",
      "----\n",
      "302.1700134277344\n"
     ]
    }
   ],
   "source": [
    "# Number of shares \n",
    "shares_MSFT = 1000\n",
    "\n",
    "#live stock price \n",
    "price = yf.Ticker('MSFT')\n",
    "price_MSFT = price.history().tail(1)['Close'].iloc[0]\n",
    "print('MSFT')\n",
    "print('----')\n",
    "print(price.history().tail(1)['Close'].iloc[0])\n"
   ]
  },
  {
   "cell_type": "code",
   "execution_count": 15,
   "id": "8515ad5b",
   "metadata": {},
   "outputs": [],
   "source": [
    "# Investment Value \n",
    "value_MSFT = price_MSFT * shares_MSFT\n",
    "\n",
    "# risk free rate ( 4 week treasury bill rate)\n",
    "rfr_MSFT = 0.02\n",
    "\n",
    "#volatility (30 day volatility at that time)\n",
    "vol_MSFT = 0.2216\n"
   ]
  },
  {
   "cell_type": "markdown",
   "id": "5c547662",
   "metadata": {},
   "source": [
    "# Simulations - Calculate Investment Returns"
   ]
  },
  {
   "cell_type": "code",
   "execution_count": 64,
   "id": "d6aa7916",
   "metadata": {},
   "outputs": [],
   "source": [
    "# number of simulations\n",
    "simulations = 5000\n",
    "\n",
    "#investment time in a year\n",
    "t_MSFT = 21/252"
   ]
  },
  {
   "cell_type": "code",
   "execution_count": 65,
   "id": "0be4fdab",
   "metadata": {},
   "outputs": [
    {
     "data": {
      "text/plain": [
       "(array([  1.,   0.,   0.,   0.,   0.,   0.,   1.,   2.,   2.,   0.,   2.,\n",
       "          5.,   2.,   1.,   4.,   6.,   3.,   3.,   9.,   7.,   6.,   9.,\n",
       "          8.,   8.,  16.,  24.,  21.,  24.,  33.,  41.,  37.,  45.,  51.,\n",
       "         57.,  64.,  71.,  74.,  73.,  97.,  84.,  99.,  95., 109., 115.,\n",
       "        116., 121., 132., 133., 150., 140., 145., 159., 146., 123., 144.,\n",
       "        125., 144., 144., 133., 131., 134., 127., 114., 104.,  86.,  99.,\n",
       "        105.,  76.,  69.,  72.,  76.,  73.,  39.,  43.,  46.,  35.,  33.,\n",
       "         17.,  24.,  23.,  15.,  17.,  15.,  13.,   7.,  10.,   9.,   5.,\n",
       "          3.,   5.,   1.,   2.,   2.,   2.,   0.,   1.,   1.,   0.,   0.,\n",
       "          2.]),\n",
       " array([-3.82150560e+00, -3.74939671e+00, -3.67728783e+00, -3.60517894e+00,\n",
       "        -3.53307006e+00, -3.46096118e+00, -3.38885229e+00, -3.31674341e+00,\n",
       "        -3.24463452e+00, -3.17252564e+00, -3.10041676e+00, -3.02830787e+00,\n",
       "        -2.95619899e+00, -2.88409010e+00, -2.81198122e+00, -2.73987233e+00,\n",
       "        -2.66776345e+00, -2.59565457e+00, -2.52354568e+00, -2.45143680e+00,\n",
       "        -2.37932791e+00, -2.30721903e+00, -2.23511015e+00, -2.16300126e+00,\n",
       "        -2.09089238e+00, -2.01878349e+00, -1.94667461e+00, -1.87456573e+00,\n",
       "        -1.80245684e+00, -1.73034796e+00, -1.65823907e+00, -1.58613019e+00,\n",
       "        -1.51402130e+00, -1.44191242e+00, -1.36980354e+00, -1.29769465e+00,\n",
       "        -1.22558577e+00, -1.15347688e+00, -1.08136800e+00, -1.00925912e+00,\n",
       "        -9.37150232e-01, -8.65041348e-01, -7.92932463e-01, -7.20823579e-01,\n",
       "        -6.48714695e-01, -5.76605811e-01, -5.04496927e-01, -4.32388043e-01,\n",
       "        -3.60279159e-01, -2.88170274e-01, -2.16061390e-01, -1.43952506e-01,\n",
       "        -7.18436221e-02,  2.65262032e-04,  7.23741462e-02,  1.44483030e-01,\n",
       "         2.16591914e-01,  2.88700799e-01,  3.60809683e-01,  4.32918567e-01,\n",
       "         5.05027451e-01,  5.77136335e-01,  6.49245219e-01,  7.21354103e-01,\n",
       "         7.93462987e-01,  8.65571872e-01,  9.37680756e-01,  1.00978964e+00,\n",
       "         1.08189852e+00,  1.15400741e+00,  1.22611629e+00,  1.29822518e+00,\n",
       "         1.37033406e+00,  1.44244294e+00,  1.51455183e+00,  1.58666071e+00,\n",
       "         1.65876960e+00,  1.73087848e+00,  1.80298737e+00,  1.87509625e+00,\n",
       "         1.94720513e+00,  2.01931402e+00,  2.09142290e+00,  2.16353179e+00,\n",
       "         2.23564067e+00,  2.30774955e+00,  2.37985844e+00,  2.45196732e+00,\n",
       "         2.52407621e+00,  2.59618509e+00,  2.66829397e+00,  2.74040286e+00,\n",
       "         2.81251174e+00,  2.88462063e+00,  2.95672951e+00,  3.02883840e+00,\n",
       "         3.10094728e+00,  3.17305616e+00,  3.24516505e+00,  3.31727393e+00,\n",
       "         3.38938282e+00]),\n",
       " <BarContainer object of 100 artists>)"
      ]
     },
     "execution_count": 65,
     "metadata": {},
     "output_type": "execute_result"
    },
    {
     "data": {
      "image/png": "[encoded data removed]",
      "text/plain": [
       "<Figure size 432x288 with 1 Axes>"
      ]
     },
     "metadata": {
      "needs_background": "light"
     },
     "output_type": "display_data"
    }
   ],
   "source": [
    "# explain np.random.standard_normal\n",
    "sample = np.random.standard_normal(5000)\n",
    "plt.hist(sample, bins=100)"
   ]
  },
  {
   "cell_type": "code",
   "execution_count": 66,
   "id": "0a902a8d",
   "metadata": {},
   "outputs": [
    {
     "name": "stdout",
     "output_type": "stream",
     "text": [
      "-0.020250129962752203\n",
      "0.9831580397732071\n"
     ]
    }
   ],
   "source": [
    "print(np.mean(sample))\n",
    "print(np.std(sample))"
   ]
  },
  {
   "cell_type": "code",
   "execution_count": 67,
   "id": "1837c020",
   "metadata": {},
   "outputs": [],
   "source": [
    "# create a function to calculate the returns of the investment\n",
    "def VaR(pv, rfr, vol, t, simulations):\n",
    "    end_value = pv * np.exp((rfr - 0.5 * vol **2)* t + np.random.standard_normal(\n",
    "        simulations) * vol * np.sqrt(t))\n",
    "    returns = end_value- - pv\n",
    "    return returns\n",
    "# apply the Var function to simulate the returns\n",
    "returns_MSFT = VaR(value_MSFT, rfr_MSFT, vol_MSFT, t_MSFT, simulations)"
   ]
  },
  {
   "cell_type": "markdown",
   "id": "3ec575a8",
   "metadata": {},
   "source": [
    "# Quantifcations - ientify VaR at 90%, 95% and 99% Confidence Level"
   ]
  },
  {
   "cell_type": "code",
   "execution_count": 68,
   "id": "59edd29d",
   "metadata": {},
   "outputs": [
    {
     "name": "stdout",
     "output_type": "stream",
     "text": [
      "VaR at 90% confidenece level: $3,455\n"
     ]
    }
   ],
   "source": [
    "# Explain string formatting\n",
    "#print: Var at x% confidence level:$y:\n",
    "x = 0.9 \n",
    "y = 3455.248\n",
    "print(\"VaR at {:.0%} confidenece level: ${:,.0f}\".format(x, y))"
   ]
  },
  {
   "cell_type": "code",
   "execution_count": 63,
   "id": "dd163b9b",
   "metadata": {},
   "outputs": [
    {
     "name": "stdout",
     "output_type": "stream",
     "text": [
      "VaR at 90% confidence level: $580,487\n",
      "VaR at 95% confidence level: $574,108\n",
      "VaR at 99% confidence level: $562,410\n"
     ]
    },
    {
     "data": {
      "image/png": "[encoded data removed]",
      "text/plain": [
       "<Figure size 432x288 with 1 Axes>"
      ]
     },
     "metadata": {
      "needs_background": "light"
     },
     "output_type": "display_data"
    }
   ],
   "source": [
    "#plot the returns\n",
    "plt.hist(returns_MSFT, bins = 100); \n",
    "#Show Var at 90% 95% confidence levels\n",
    "percentiles = [10,5,1]\n",
    "\n",
    "for i in percentiles:\n",
    "    confidence = (1-i/100)\n",
    "    value = np.percentile(returns_MSFT, i)\n",
    "    print(\"VaR at {:.0%} confidence level: ${:,.0f}\".format(confidence, value))\n"
   ]
  },
  {
   "cell_type": "code",
   "execution_count": null,
   "id": "cc0014fd",
   "metadata": {},
   "outputs": [],
   "source": []
  },
  {
   "cell_type": "code",
   "execution_count": null,
   "id": "292c2ff9",
   "metadata": {},
   "outputs": [],
   "source": []
  }
 ],
 "metadata": {
  "kernelspec": {
   "display_name": "Python 3",
   "language": "python",
   "name": "python3"
  },
  "language_info": {
   "codemirror_mode": {
    "name": "ipython",
    "version": 3
   },
   "file_extension": ".py",
   "mimetype": "text/x-python",
   "name": "python",
   "nbconvert_exporter": "python",
   "pygments_lexer": "ipython3",
   "version": "3.8.8"
  }
 },
 "nbformat": 4,
 "nbformat_minor": 5
}
